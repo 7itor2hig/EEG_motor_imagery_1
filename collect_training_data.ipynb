{
 "cells": [
  {
   "cell_type": "code",
   "execution_count": 61,
   "id": "a37392f3",
   "metadata": {},
   "outputs": [],
   "source": [
    "import time\n",
    "import drawSvg as draw\n",
    "import random"
   ]
  },
  {
   "cell_type": "code",
   "execution_count": 4,
   "id": "d7f76ac4",
   "metadata": {},
   "outputs": [],
   "source": [
    "blocks = 50\n",
    "delayed_start = 5\n",
    "stim_time = 5\n",
    "stim_delay = 2\n",
    "\n",
    "classifications = ['L','R']"
   ]
  },
  {
   "cell_type": "code",
   "execution_count": 6,
   "id": "7725abee",
   "metadata": {},
   "outputs": [],
   "source": [
    "left_start =  []\n",
    "left_end =    []\n",
    "right_start = []\n",
    "right_end =   []"
   ]
  },
  {
   "cell_type": "code",
   "execution_count": 78,
   "id": "a7fe3cac",
   "metadata": {},
   "outputs": [],
   "source": [
    "def left_stim(D):\n",
    "    D.append(draw.Rectangle(-300,-300, 600,600, fill='White'))\n",
    "    D.append(draw.Text(\"L\", 72, -36,-36, fill='Black'))\n",
    "    return(D)\n",
    "\n",
    "def right_stim(D):\n",
    "    D.append(draw.Rectangle(-300,-300, 600,600, fill='White'))\n",
    "    D.append(draw.Text(\"R\", 72, -36,-36, fill='Black'))\n",
    "    return(D)\n",
    "\n",
    "def rest(D):\n",
    "    D.append(draw.Rectangle(-300,-300, 600,600, fill='White'))\n",
    "    D.append(draw.Text(\"Rest\", 72, -72,0, fill='Black'))\n",
    "    return(D)"
   ]
  },
  {
   "cell_type": "code",
   "execution_count": 89,
   "id": "5b4e290a",
   "metadata": {},
   "outputs": [],
   "source": [
    "def collect_data(blocks, delayed_start, stim_time, stim_delay):\n",
    "    D = draw.Drawing(600,600, origin='center')\n",
    "    D.append(draw.Rectangle(-300,-300, 600,600, fill = 'White'))\n",
    "    stim = 0\n",
    "    D\n",
    "    \n",
    "    for block in range(blocks):\n",
    "        stim = random.randint(1,2)\n",
    "        if stim == 1:\n",
    "            left_start.append(time.time())\n",
    "            D = left_stim()\n",
    "            D\n",
    "            time.sleep(stim_time)\n",
    "            left_end.append(time.time())\n",
    "            D = rest()\n",
    "            D\n",
    "            time.sleep(stim_delay)\n",
    "                \n",
    "        else:\n",
    "            right_start.append(time.time())\n",
    "            D = right_stim()\n",
    "            D\n",
    "            time.sleep(stim_time)\n",
    "            right_end.append(time.time())\n",
    "            D = rest()\n",
    "            D\n",
    "            time.sleep(stim_delay)\n",
    "        \n",
    "    "
   ]
  },
  {
   "cell_type": "code",
   "execution_count": 90,
   "id": "fb95b586",
   "metadata": {},
   "outputs": [],
   "source": [
    "i = random.randint(1,2)"
   ]
  },
  {
   "cell_type": "code",
   "execution_count": 91,
   "id": "b06a4bae",
   "metadata": {},
   "outputs": [
    {
     "data": {
      "text/plain": [
       "1"
      ]
     },
     "execution_count": 91,
     "metadata": {},
     "output_type": "execute_result"
    }
   ],
   "source": [
    "i"
   ]
  },
  {
   "cell_type": "code",
   "execution_count": 92,
   "id": "54987075",
   "metadata": {},
   "outputs": [
    {
     "ename": "KeyboardInterrupt",
     "evalue": "",
     "output_type": "error",
     "traceback": [
      "\u001b[0;31m---------------------------------------------------------------------------\u001b[0m",
      "\u001b[0;31mKeyboardInterrupt\u001b[0m                         Traceback (most recent call last)",
      "Cell \u001b[0;32mIn[92], line 8\u001b[0m\n\u001b[1;32m      4\u001b[0m stim_delay \u001b[38;5;241m=\u001b[39m \u001b[38;5;241m2\u001b[39m\n\u001b[1;32m      6\u001b[0m classifications \u001b[38;5;241m=\u001b[39m [\u001b[38;5;124m'\u001b[39m\u001b[38;5;124mL\u001b[39m\u001b[38;5;124m'\u001b[39m,\u001b[38;5;124m'\u001b[39m\u001b[38;5;124mR\u001b[39m\u001b[38;5;124m'\u001b[39m]\n\u001b[0;32m----> 8\u001b[0m \u001b[43mcollect_data\u001b[49m\u001b[43m(\u001b[49m\u001b[43mblocks\u001b[49m\u001b[43m,\u001b[49m\u001b[43m \u001b[49m\u001b[43mdelayed_start\u001b[49m\u001b[43m,\u001b[49m\u001b[43m \u001b[49m\u001b[43mstim_time\u001b[49m\u001b[43m,\u001b[49m\u001b[43m \u001b[49m\u001b[43mstim_delay\u001b[49m\u001b[43m)\u001b[49m\n",
      "Cell \u001b[0;32mIn[89], line 17\u001b[0m, in \u001b[0;36mcollect_data\u001b[0;34m(blocks, delayed_start, stim_time, stim_delay)\u001b[0m\n\u001b[1;32m     15\u001b[0m     D \u001b[38;5;241m=\u001b[39m rest()\n\u001b[1;32m     16\u001b[0m     D\n\u001b[0;32m---> 17\u001b[0m     \u001b[43mtime\u001b[49m\u001b[38;5;241;43m.\u001b[39;49m\u001b[43msleep\u001b[49m\u001b[43m(\u001b[49m\u001b[43mstim_delay\u001b[49m\u001b[43m)\u001b[49m\n\u001b[1;32m     19\u001b[0m \u001b[38;5;28;01melse\u001b[39;00m:\n\u001b[1;32m     20\u001b[0m     right_start\u001b[38;5;241m.\u001b[39mappend(time\u001b[38;5;241m.\u001b[39mtime())\n",
      "\u001b[0;31mKeyboardInterrupt\u001b[0m: "
     ]
    }
   ],
   "source": [
    "blocks = 50\n",
    "delayed_start = 5\n",
    "stim_time = 5\n",
    "stim_delay = 2\n",
    "\n",
    "classifications = ['L','R']\n",
    "\n",
    "collect_data(blocks, delayed_start, stim_time, stim_delay)"
   ]
  },
  {
   "cell_type": "code",
   "execution_count": 95,
   "id": "953fa315",
   "metadata": {},
   "outputs": [
    {
     "name": "stdout",
     "output_type": "stream",
     "text": [
      "[1699563177.3327193]\n",
      "[1699563182.3345144]\n"
     ]
    }
   ],
   "source": [
    "print(left_start)\n",
    "print(left_end)"
   ]
  },
  {
   "cell_type": "code",
   "execution_count": 13,
   "id": "e8fa54a7",
   "metadata": {},
   "outputs": [],
   "source": [
    "import matplotlib.pyplot as plt\n",
    "import time\n",
    "import random\n",
    "import drawSvg as draw"
   ]
  },
  {
   "cell_type": "code",
   "execution_count": 44,
   "id": "f24d2194",
   "metadata": {},
   "outputs": [
    {
     "data": {
      "text/plain": [
       "<Figure size 640x480 with 0 Axes>"
      ]
     },
     "metadata": {},
     "output_type": "display_data"
    },
    {
     "data": {
      "text/plain": [
       "<Figure size 640x480 with 0 Axes>"
      ]
     },
     "metadata": {},
     "output_type": "display_data"
    },
    {
     "data": {
      "text/plain": [
       "<Figure size 640x480 with 0 Axes>"
      ]
     },
     "metadata": {},
     "output_type": "display_data"
    },
    {
     "data": {
      "text/plain": [
       "<Figure size 640x480 with 0 Axes>"
      ]
     },
     "metadata": {},
     "output_type": "display_data"
    },
    {
     "data": {
      "text/plain": [
       "<Figure size 640x480 with 0 Axes>"
      ]
     },
     "metadata": {},
     "output_type": "display_data"
    }
   ],
   "source": [
    "num_blocks = 5\n",
    "left_start = []\n",
    "left_end = []\n",
    "right_start = []\n",
    "right_end = []\n",
    "rest_start = []\n",
    "rest_end = []\n",
    "\n",
    "for i in range(num_blocks):\n",
    "    plt.figure()\n",
    "    plt.show()\n",
    "    time.sleep(1)\n",
    "    stimulus = random.randint(1,2)\n",
    "\n"
   ]
  },
  {
   "cell_type": "code",
   "execution_count": null,
   "id": "96ca1266",
   "metadata": {},
   "outputs": [],
   "source": []
  }
 ],
 "metadata": {
  "kernelspec": {
   "display_name": "Python 3 (ipykernel)",
   "language": "python",
   "name": "python3"
  },
  "language_info": {
   "codemirror_mode": {
    "name": "ipython",
    "version": 3
   },
   "file_extension": ".py",
   "mimetype": "text/x-python",
   "name": "python",
   "nbconvert_exporter": "python",
   "pygments_lexer": "ipython3",
   "version": "3.10.9"
  }
 },
 "nbformat": 4,
 "nbformat_minor": 5
}
